{
 "cells": [
  {
   "cell_type": "code",
   "execution_count": 90,
   "metadata": {},
   "outputs": [
    {
     "name": "stdout",
     "output_type": "stream",
     "text": [
      "Populating the interactive namespace from numpy and matplotlib\n"
     ]
    }
   ],
   "source": [
    "%pylab inline\n",
    "\n",
    "def sense(x):\n",
    "    return x\n",
    "\n",
    "def control(y):\n",
    "    k_p, k_d = 2, 3;\n",
    "    theta_d, omega_d = pi/4, 0;\n",
    "    \n",
    "    e_theta = theta_d - y[0];\n",
    "    e_omega =omega_d - y[1];\n",
    "    \n",
    "    omega_dot = (k_p * e_theta) + (k_d * e_omega);\n",
    "    tau = Jyy * omega_dot\n",
    "    u = tau / L\n",
    "    #print ('theta: ', y[0])\n",
    "    #print ('omega: ', y[1])\n",
    "    return u\n",
    "\n",
    "def simulate(dt, x, u):\n",
    "    tau = L * u\n",
    "    omega_dot = tau / Jyy\n",
    "    dx = array([x[1], omega_dot]);\n",
    "    x += dt * dx\n",
    "    return [x, F]"
   ]
  },
  {
   "cell_type": "code",
   "execution_count": 91,
   "metadata": {},
   "outputs": [
    {
     "data": {
      "text/plain": [
       "Text(0, 0.5, 'omega')"
      ]
     },
     "execution_count": 91,
     "metadata": {},
     "output_type": "execute_result"
    },
    {
     "data": {
      "image/png": "[encoded data removed]",
      "text/plain": [
       "<Figure size 720x360 with 2 Axes>"
      ]
     },
     "metadata": {
      "needs_background": "light"
     },
     "output_type": "display_data"
    }
   ],
   "source": [
    "Jyy, L = 1, 1\n",
    "tf = 10\n",
    "dt = 0.01\n",
    "time = linspace(0.,tf, int(tf / dt) + 1)  # Time interval\n",
    "\n",
    "\n",
    "\n",
    "theta, omega = 0., 0.\n",
    "x = array([theta, omega])\n",
    "x_log = [copy(x)]\n",
    "\n",
    "F = array([0, 0])\n",
    "F_log = [copy(F)]\n",
    "\n",
    "for t in time:\n",
    "    y = sense(x)\n",
    "    u = control(y)\n",
    "    [x, F] = simulate(dt, x, u)\n",
    "    x_log.append(copy(x))\n",
    "    F_log.append(copy(F))\n",
    "    \n",
    "x_log = array(x_log)\n",
    "fig = plt.figure(figsize=(10,5))\n",
    "subplot(3,3,1)\n",
    "plot(time[:],x_log[:-1, 0])\n",
    "xlabel('t')\n",
    "ylabel('theta')\n",
    "\n",
    "subplot(3,3,3)\n",
    "plot(time[:], x_log[:-1, 1])\n",
    "xlabel('t')\n",
    "ylabel('omega')"
   ]
  }
 ],
 "metadata": {
  "kernelspec": {
   "display_name": "Python 3",
   "language": "python",
   "name": "python3"
  },
  "language_info": {
   "codemirror_mode": {
    "name": "ipython",
    "version": 3
   },
   "file_extension": ".py",
   "mimetype": "text/x-python",
   "name": "python",
   "nbconvert_exporter": "python",
   "pygments_lexer": "ipython3",
   "version": "3.8.5"
  }
 },
 "nbformat": 4,
 "nbformat_minor": 4
}
